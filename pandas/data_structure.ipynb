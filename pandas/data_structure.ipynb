{
 "cells": [
  {
   "cell_type": "code",
   "execution_count": 1,
   "id": "381143b4-0aaf-4a3f-9b1c-d96f24269ab0",
   "metadata": {},
   "outputs": [],
   "source": [
    "import numpy as np\n",
    "\n",
    "# 创建一个符合正态分布的10只股票5天的涨跌幅数据\n",
    "stock_change = np.random.normal(0, 1, (10,5))"
   ]
  },
  {
   "cell_type": "code",
   "execution_count": 2,
   "id": "0d48d6fd-d1e0-4482-a228-2a916e7044dc",
   "metadata": {},
   "outputs": [
    {
     "data": {
      "text/plain": [
       "array([[ 0.47514819,  0.46806469,  1.3761138 , -0.18020441, -1.82316717],\n",
       "       [-0.22415871,  0.72813948,  0.67841993, -0.85328684, -0.26643303],\n",
       "       [ 0.85377707,  0.94387033,  1.19658083,  0.29581118,  0.92552412],\n",
       "       [-0.53417391, -1.1165484 ,  0.63604437, -1.44951744, -0.92664868],\n",
       "       [ 0.95953836,  1.77056298, -0.35170725, -2.97707628,  2.01333886],\n",
       "       [-0.97311283,  0.07952776, -0.20991385,  0.57125349,  1.62425097],\n",
       "       [ 0.21492865,  0.23367128, -0.18178194,  0.23027016,  0.07577162],\n",
       "       [-0.5000672 ,  1.90727308, -0.53595561, -0.04363929,  0.26826586],\n",
       "       [-0.43617001, -0.34059309, -0.3411575 , -0.76687503, -0.56142896],\n",
       "       [-1.61326126,  0.65086761, -0.5407862 , -0.80889356,  0.31314814]])"
      ]
     },
     "execution_count": 2,
     "metadata": {},
     "output_type": "execute_result"
    }
   ],
   "source": [
    "stock_change"
   ]
  },
  {
   "cell_type": "code",
   "execution_count": 3,
   "id": "edfa736f-f177-40d7-8077-9f1dfd7d906f",
   "metadata": {},
   "outputs": [],
   "source": [
    "import pandas as pd"
   ]
  },
  {
   "cell_type": "markdown",
   "id": "c9a8c685",
   "metadata": {},
   "source": [
    "# 一、DataFrame"
   ]
  },
  {
   "cell_type": "markdown",
   "id": "ee0ddbaa",
   "metadata": {},
   "source": [
    "## 结构："
   ]
  },
  {
   "cell_type": "code",
   "execution_count": 4,
   "id": "b68567b1-9934-47b1-9d3a-adcce402337b",
   "metadata": {},
   "outputs": [
    {
     "data": {
      "text/html": [
       "<div>\n",
       "<style scoped>\n",
       "    .dataframe tbody tr th:only-of-type {\n",
       "        vertical-align: middle;\n",
       "    }\n",
       "\n",
       "    .dataframe tbody tr th {\n",
       "        vertical-align: top;\n",
       "    }\n",
       "\n",
       "    .dataframe thead th {\n",
       "        text-align: right;\n",
       "    }\n",
       "</style>\n",
       "<table border=\"1\" class=\"dataframe\">\n",
       "  <thead>\n",
       "    <tr style=\"text-align: right;\">\n",
       "      <th></th>\n",
       "      <th>0</th>\n",
       "      <th>1</th>\n",
       "      <th>2</th>\n",
       "      <th>3</th>\n",
       "      <th>4</th>\n",
       "    </tr>\n",
       "  </thead>\n",
       "  <tbody>\n",
       "    <tr>\n",
       "      <th>0</th>\n",
       "      <td>0.475148</td>\n",
       "      <td>0.468065</td>\n",
       "      <td>1.376114</td>\n",
       "      <td>-0.180204</td>\n",
       "      <td>-1.823167</td>\n",
       "    </tr>\n",
       "    <tr>\n",
       "      <th>1</th>\n",
       "      <td>-0.224159</td>\n",
       "      <td>0.728139</td>\n",
       "      <td>0.678420</td>\n",
       "      <td>-0.853287</td>\n",
       "      <td>-0.266433</td>\n",
       "    </tr>\n",
       "    <tr>\n",
       "      <th>2</th>\n",
       "      <td>0.853777</td>\n",
       "      <td>0.943870</td>\n",
       "      <td>1.196581</td>\n",
       "      <td>0.295811</td>\n",
       "      <td>0.925524</td>\n",
       "    </tr>\n",
       "    <tr>\n",
       "      <th>3</th>\n",
       "      <td>-0.534174</td>\n",
       "      <td>-1.116548</td>\n",
       "      <td>0.636044</td>\n",
       "      <td>-1.449517</td>\n",
       "      <td>-0.926649</td>\n",
       "    </tr>\n",
       "    <tr>\n",
       "      <th>4</th>\n",
       "      <td>0.959538</td>\n",
       "      <td>1.770563</td>\n",
       "      <td>-0.351707</td>\n",
       "      <td>-2.977076</td>\n",
       "      <td>2.013339</td>\n",
       "    </tr>\n",
       "    <tr>\n",
       "      <th>5</th>\n",
       "      <td>-0.973113</td>\n",
       "      <td>0.079528</td>\n",
       "      <td>-0.209914</td>\n",
       "      <td>0.571253</td>\n",
       "      <td>1.624251</td>\n",
       "    </tr>\n",
       "    <tr>\n",
       "      <th>6</th>\n",
       "      <td>0.214929</td>\n",
       "      <td>0.233671</td>\n",
       "      <td>-0.181782</td>\n",
       "      <td>0.230270</td>\n",
       "      <td>0.075772</td>\n",
       "    </tr>\n",
       "    <tr>\n",
       "      <th>7</th>\n",
       "      <td>-0.500067</td>\n",
       "      <td>1.907273</td>\n",
       "      <td>-0.535956</td>\n",
       "      <td>-0.043639</td>\n",
       "      <td>0.268266</td>\n",
       "    </tr>\n",
       "    <tr>\n",
       "      <th>8</th>\n",
       "      <td>-0.436170</td>\n",
       "      <td>-0.340593</td>\n",
       "      <td>-0.341158</td>\n",
       "      <td>-0.766875</td>\n",
       "      <td>-0.561429</td>\n",
       "    </tr>\n",
       "    <tr>\n",
       "      <th>9</th>\n",
       "      <td>-1.613261</td>\n",
       "      <td>0.650868</td>\n",
       "      <td>-0.540786</td>\n",
       "      <td>-0.808894</td>\n",
       "      <td>0.313148</td>\n",
       "    </tr>\n",
       "  </tbody>\n",
       "</table>\n",
       "</div>"
      ],
      "text/plain": [
       "          0         1         2         3         4\n",
       "0  0.475148  0.468065  1.376114 -0.180204 -1.823167\n",
       "1 -0.224159  0.728139  0.678420 -0.853287 -0.266433\n",
       "2  0.853777  0.943870  1.196581  0.295811  0.925524\n",
       "3 -0.534174 -1.116548  0.636044 -1.449517 -0.926649\n",
       "4  0.959538  1.770563 -0.351707 -2.977076  2.013339\n",
       "5 -0.973113  0.079528 -0.209914  0.571253  1.624251\n",
       "6  0.214929  0.233671 -0.181782  0.230270  0.075772\n",
       "7 -0.500067  1.907273 -0.535956 -0.043639  0.268266\n",
       "8 -0.436170 -0.340593 -0.341158 -0.766875 -0.561429\n",
       "9 -1.613261  0.650868 -0.540786 -0.808894  0.313148"
      ]
     },
     "execution_count": 4,
     "metadata": {},
     "output_type": "execute_result"
    }
   ],
   "source": [
    "pd.DataFrame(stock_change)"
   ]
  },
  {
   "cell_type": "code",
   "execution_count": 5,
   "id": "4332a6a6-667f-4433-ae25-ba6b6075c208",
   "metadata": {},
   "outputs": [
    {
     "data": {
      "text/plain": [
       "['股票1', '股票2', '股票3', '股票4', '股票5', '股票6', '股票7', '股票8', '股票9', '股票10']"
      ]
     },
     "execution_count": 5,
     "metadata": {},
     "output_type": "execute_result"
    }
   ],
   "source": [
    "stocks = [\"股票{}\".format(i) for i in range(1, 11)]\n",
    "\n",
    "stocks"
   ]
  },
  {
   "cell_type": "code",
   "execution_count": 6,
   "id": "6be0e2b7-91cb-4988-af4e-9fd86ee225e9",
   "metadata": {},
   "outputs": [
    {
     "data": {
      "text/html": [
       "<div>\n",
       "<style scoped>\n",
       "    .dataframe tbody tr th:only-of-type {\n",
       "        vertical-align: middle;\n",
       "    }\n",
       "\n",
       "    .dataframe tbody tr th {\n",
       "        vertical-align: top;\n",
       "    }\n",
       "\n",
       "    .dataframe thead th {\n",
       "        text-align: right;\n",
       "    }\n",
       "</style>\n",
       "<table border=\"1\" class=\"dataframe\">\n",
       "  <thead>\n",
       "    <tr style=\"text-align: right;\">\n",
       "      <th></th>\n",
       "      <th>0</th>\n",
       "      <th>1</th>\n",
       "      <th>2</th>\n",
       "      <th>3</th>\n",
       "      <th>4</th>\n",
       "    </tr>\n",
       "  </thead>\n",
       "  <tbody>\n",
       "    <tr>\n",
       "      <th>股票1</th>\n",
       "      <td>0.475148</td>\n",
       "      <td>0.468065</td>\n",
       "      <td>1.376114</td>\n",
       "      <td>-0.180204</td>\n",
       "      <td>-1.823167</td>\n",
       "    </tr>\n",
       "    <tr>\n",
       "      <th>股票2</th>\n",
       "      <td>-0.224159</td>\n",
       "      <td>0.728139</td>\n",
       "      <td>0.678420</td>\n",
       "      <td>-0.853287</td>\n",
       "      <td>-0.266433</td>\n",
       "    </tr>\n",
       "    <tr>\n",
       "      <th>股票3</th>\n",
       "      <td>0.853777</td>\n",
       "      <td>0.943870</td>\n",
       "      <td>1.196581</td>\n",
       "      <td>0.295811</td>\n",
       "      <td>0.925524</td>\n",
       "    </tr>\n",
       "    <tr>\n",
       "      <th>股票4</th>\n",
       "      <td>-0.534174</td>\n",
       "      <td>-1.116548</td>\n",
       "      <td>0.636044</td>\n",
       "      <td>-1.449517</td>\n",
       "      <td>-0.926649</td>\n",
       "    </tr>\n",
       "    <tr>\n",
       "      <th>股票5</th>\n",
       "      <td>0.959538</td>\n",
       "      <td>1.770563</td>\n",
       "      <td>-0.351707</td>\n",
       "      <td>-2.977076</td>\n",
       "      <td>2.013339</td>\n",
       "    </tr>\n",
       "    <tr>\n",
       "      <th>股票6</th>\n",
       "      <td>-0.973113</td>\n",
       "      <td>0.079528</td>\n",
       "      <td>-0.209914</td>\n",
       "      <td>0.571253</td>\n",
       "      <td>1.624251</td>\n",
       "    </tr>\n",
       "    <tr>\n",
       "      <th>股票7</th>\n",
       "      <td>0.214929</td>\n",
       "      <td>0.233671</td>\n",
       "      <td>-0.181782</td>\n",
       "      <td>0.230270</td>\n",
       "      <td>0.075772</td>\n",
       "    </tr>\n",
       "    <tr>\n",
       "      <th>股票8</th>\n",
       "      <td>-0.500067</td>\n",
       "      <td>1.907273</td>\n",
       "      <td>-0.535956</td>\n",
       "      <td>-0.043639</td>\n",
       "      <td>0.268266</td>\n",
       "    </tr>\n",
       "    <tr>\n",
       "      <th>股票9</th>\n",
       "      <td>-0.436170</td>\n",
       "      <td>-0.340593</td>\n",
       "      <td>-0.341158</td>\n",
       "      <td>-0.766875</td>\n",
       "      <td>-0.561429</td>\n",
       "    </tr>\n",
       "    <tr>\n",
       "      <th>股票10</th>\n",
       "      <td>-1.613261</td>\n",
       "      <td>0.650868</td>\n",
       "      <td>-0.540786</td>\n",
       "      <td>-0.808894</td>\n",
       "      <td>0.313148</td>\n",
       "    </tr>\n",
       "  </tbody>\n",
       "</table>\n",
       "</div>"
      ],
      "text/plain": [
       "             0         1         2         3         4\n",
       "股票1   0.475148  0.468065  1.376114 -0.180204 -1.823167\n",
       "股票2  -0.224159  0.728139  0.678420 -0.853287 -0.266433\n",
       "股票3   0.853777  0.943870  1.196581  0.295811  0.925524\n",
       "股票4  -0.534174 -1.116548  0.636044 -1.449517 -0.926649\n",
       "股票5   0.959538  1.770563 -0.351707 -2.977076  2.013339\n",
       "股票6  -0.973113  0.079528 -0.209914  0.571253  1.624251\n",
       "股票7   0.214929  0.233671 -0.181782  0.230270  0.075772\n",
       "股票8  -0.500067  1.907273 -0.535956 -0.043639  0.268266\n",
       "股票9  -0.436170 -0.340593 -0.341158 -0.766875 -0.561429\n",
       "股票10 -1.613261  0.650868 -0.540786 -0.808894  0.313148"
      ]
     },
     "execution_count": 6,
     "metadata": {},
     "output_type": "execute_result"
    }
   ],
   "source": [
    "pd.DataFrame(stock_change, index = stocks) # 添加行索引"
   ]
  },
  {
   "cell_type": "code",
   "execution_count": 7,
   "id": "5acd1f82-e679-42b0-83c5-e1656405b6bf",
   "metadata": {},
   "outputs": [
    {
     "data": {
      "text/plain": [
       "DatetimeIndex(['2025-01-01', '2025-01-02', '2025-01-03', '2025-01-06',\n",
       "               '2025-01-07'],\n",
       "              dtype='datetime64[ns]', freq='B')"
      ]
     },
     "execution_count": 7,
     "metadata": {},
     "output_type": "execute_result"
    }
   ],
   "source": [
    "dates = pd.date_range(start=\"20250101\", periods=5, freq='B') # pd专门的日期函数，这里freq的B表示只选择工作日，2025.1.4、2025.1.5为周末\n",
    "\n",
    "dates"
   ]
  },
  {
   "cell_type": "code",
   "execution_count": 8,
   "id": "31439b22",
   "metadata": {},
   "outputs": [
    {
     "data": {
      "text/html": [
       "<div>\n",
       "<style scoped>\n",
       "    .dataframe tbody tr th:only-of-type {\n",
       "        vertical-align: middle;\n",
       "    }\n",
       "\n",
       "    .dataframe tbody tr th {\n",
       "        vertical-align: top;\n",
       "    }\n",
       "\n",
       "    .dataframe thead th {\n",
       "        text-align: right;\n",
       "    }\n",
       "</style>\n",
       "<table border=\"1\" class=\"dataframe\">\n",
       "  <thead>\n",
       "    <tr style=\"text-align: right;\">\n",
       "      <th></th>\n",
       "      <th>2025-01-01</th>\n",
       "      <th>2025-01-02</th>\n",
       "      <th>2025-01-03</th>\n",
       "      <th>2025-01-06</th>\n",
       "      <th>2025-01-07</th>\n",
       "    </tr>\n",
       "  </thead>\n",
       "  <tbody>\n",
       "    <tr>\n",
       "      <th>股票1</th>\n",
       "      <td>0.475148</td>\n",
       "      <td>0.468065</td>\n",
       "      <td>1.376114</td>\n",
       "      <td>-0.180204</td>\n",
       "      <td>-1.823167</td>\n",
       "    </tr>\n",
       "    <tr>\n",
       "      <th>股票2</th>\n",
       "      <td>-0.224159</td>\n",
       "      <td>0.728139</td>\n",
       "      <td>0.678420</td>\n",
       "      <td>-0.853287</td>\n",
       "      <td>-0.266433</td>\n",
       "    </tr>\n",
       "    <tr>\n",
       "      <th>股票3</th>\n",
       "      <td>0.853777</td>\n",
       "      <td>0.943870</td>\n",
       "      <td>1.196581</td>\n",
       "      <td>0.295811</td>\n",
       "      <td>0.925524</td>\n",
       "    </tr>\n",
       "    <tr>\n",
       "      <th>股票4</th>\n",
       "      <td>-0.534174</td>\n",
       "      <td>-1.116548</td>\n",
       "      <td>0.636044</td>\n",
       "      <td>-1.449517</td>\n",
       "      <td>-0.926649</td>\n",
       "    </tr>\n",
       "    <tr>\n",
       "      <th>股票5</th>\n",
       "      <td>0.959538</td>\n",
       "      <td>1.770563</td>\n",
       "      <td>-0.351707</td>\n",
       "      <td>-2.977076</td>\n",
       "      <td>2.013339</td>\n",
       "    </tr>\n",
       "    <tr>\n",
       "      <th>股票6</th>\n",
       "      <td>-0.973113</td>\n",
       "      <td>0.079528</td>\n",
       "      <td>-0.209914</td>\n",
       "      <td>0.571253</td>\n",
       "      <td>1.624251</td>\n",
       "    </tr>\n",
       "    <tr>\n",
       "      <th>股票7</th>\n",
       "      <td>0.214929</td>\n",
       "      <td>0.233671</td>\n",
       "      <td>-0.181782</td>\n",
       "      <td>0.230270</td>\n",
       "      <td>0.075772</td>\n",
       "    </tr>\n",
       "    <tr>\n",
       "      <th>股票8</th>\n",
       "      <td>-0.500067</td>\n",
       "      <td>1.907273</td>\n",
       "      <td>-0.535956</td>\n",
       "      <td>-0.043639</td>\n",
       "      <td>0.268266</td>\n",
       "    </tr>\n",
       "    <tr>\n",
       "      <th>股票9</th>\n",
       "      <td>-0.436170</td>\n",
       "      <td>-0.340593</td>\n",
       "      <td>-0.341158</td>\n",
       "      <td>-0.766875</td>\n",
       "      <td>-0.561429</td>\n",
       "    </tr>\n",
       "    <tr>\n",
       "      <th>股票10</th>\n",
       "      <td>-1.613261</td>\n",
       "      <td>0.650868</td>\n",
       "      <td>-0.540786</td>\n",
       "      <td>-0.808894</td>\n",
       "      <td>0.313148</td>\n",
       "    </tr>\n",
       "  </tbody>\n",
       "</table>\n",
       "</div>"
      ],
      "text/plain": [
       "      2025-01-01  2025-01-02  2025-01-03  2025-01-06  2025-01-07\n",
       "股票1     0.475148    0.468065    1.376114   -0.180204   -1.823167\n",
       "股票2    -0.224159    0.728139    0.678420   -0.853287   -0.266433\n",
       "股票3     0.853777    0.943870    1.196581    0.295811    0.925524\n",
       "股票4    -0.534174   -1.116548    0.636044   -1.449517   -0.926649\n",
       "股票5     0.959538    1.770563   -0.351707   -2.977076    2.013339\n",
       "股票6    -0.973113    0.079528   -0.209914    0.571253    1.624251\n",
       "股票7     0.214929    0.233671   -0.181782    0.230270    0.075772\n",
       "股票8    -0.500067    1.907273   -0.535956   -0.043639    0.268266\n",
       "股票9    -0.436170   -0.340593   -0.341158   -0.766875   -0.561429\n",
       "股票10   -1.613261    0.650868   -0.540786   -0.808894    0.313148"
      ]
     },
     "execution_count": 8,
     "metadata": {},
     "output_type": "execute_result"
    }
   ],
   "source": [
    "pd.DataFrame(stock_change, index = stocks, columns= dates) # 添加行索引、列索引"
   ]
  },
  {
   "cell_type": "code",
   "execution_count": 9,
   "id": "2c06ca3b",
   "metadata": {},
   "outputs": [],
   "source": [
    "data = pd.DataFrame(stock_change, index = stocks, columns= dates)"
   ]
  },
  {
   "cell_type": "code",
   "execution_count": 10,
   "id": "26e5bdcb",
   "metadata": {},
   "outputs": [
    {
     "data": {
      "text/html": [
       "<div>\n",
       "<style scoped>\n",
       "    .dataframe tbody tr th:only-of-type {\n",
       "        vertical-align: middle;\n",
       "    }\n",
       "\n",
       "    .dataframe tbody tr th {\n",
       "        vertical-align: top;\n",
       "    }\n",
       "\n",
       "    .dataframe thead th {\n",
       "        text-align: right;\n",
       "    }\n",
       "</style>\n",
       "<table border=\"1\" class=\"dataframe\">\n",
       "  <thead>\n",
       "    <tr style=\"text-align: right;\">\n",
       "      <th></th>\n",
       "      <th>2025-01-01</th>\n",
       "      <th>2025-01-02</th>\n",
       "      <th>2025-01-03</th>\n",
       "      <th>2025-01-06</th>\n",
       "      <th>2025-01-07</th>\n",
       "    </tr>\n",
       "  </thead>\n",
       "  <tbody>\n",
       "    <tr>\n",
       "      <th>股票1</th>\n",
       "      <td>0.475148</td>\n",
       "      <td>0.468065</td>\n",
       "      <td>1.376114</td>\n",
       "      <td>-0.180204</td>\n",
       "      <td>-1.823167</td>\n",
       "    </tr>\n",
       "    <tr>\n",
       "      <th>股票2</th>\n",
       "      <td>-0.224159</td>\n",
       "      <td>0.728139</td>\n",
       "      <td>0.678420</td>\n",
       "      <td>-0.853287</td>\n",
       "      <td>-0.266433</td>\n",
       "    </tr>\n",
       "    <tr>\n",
       "      <th>股票3</th>\n",
       "      <td>0.853777</td>\n",
       "      <td>0.943870</td>\n",
       "      <td>1.196581</td>\n",
       "      <td>0.295811</td>\n",
       "      <td>0.925524</td>\n",
       "    </tr>\n",
       "    <tr>\n",
       "      <th>股票4</th>\n",
       "      <td>-0.534174</td>\n",
       "      <td>-1.116548</td>\n",
       "      <td>0.636044</td>\n",
       "      <td>-1.449517</td>\n",
       "      <td>-0.926649</td>\n",
       "    </tr>\n",
       "    <tr>\n",
       "      <th>股票5</th>\n",
       "      <td>0.959538</td>\n",
       "      <td>1.770563</td>\n",
       "      <td>-0.351707</td>\n",
       "      <td>-2.977076</td>\n",
       "      <td>2.013339</td>\n",
       "    </tr>\n",
       "    <tr>\n",
       "      <th>股票6</th>\n",
       "      <td>-0.973113</td>\n",
       "      <td>0.079528</td>\n",
       "      <td>-0.209914</td>\n",
       "      <td>0.571253</td>\n",
       "      <td>1.624251</td>\n",
       "    </tr>\n",
       "    <tr>\n",
       "      <th>股票7</th>\n",
       "      <td>0.214929</td>\n",
       "      <td>0.233671</td>\n",
       "      <td>-0.181782</td>\n",
       "      <td>0.230270</td>\n",
       "      <td>0.075772</td>\n",
       "    </tr>\n",
       "    <tr>\n",
       "      <th>股票8</th>\n",
       "      <td>-0.500067</td>\n",
       "      <td>1.907273</td>\n",
       "      <td>-0.535956</td>\n",
       "      <td>-0.043639</td>\n",
       "      <td>0.268266</td>\n",
       "    </tr>\n",
       "    <tr>\n",
       "      <th>股票9</th>\n",
       "      <td>-0.436170</td>\n",
       "      <td>-0.340593</td>\n",
       "      <td>-0.341158</td>\n",
       "      <td>-0.766875</td>\n",
       "      <td>-0.561429</td>\n",
       "    </tr>\n",
       "    <tr>\n",
       "      <th>股票10</th>\n",
       "      <td>-1.613261</td>\n",
       "      <td>0.650868</td>\n",
       "      <td>-0.540786</td>\n",
       "      <td>-0.808894</td>\n",
       "      <td>0.313148</td>\n",
       "    </tr>\n",
       "  </tbody>\n",
       "</table>\n",
       "</div>"
      ],
      "text/plain": [
       "      2025-01-01  2025-01-02  2025-01-03  2025-01-06  2025-01-07\n",
       "股票1     0.475148    0.468065    1.376114   -0.180204   -1.823167\n",
       "股票2    -0.224159    0.728139    0.678420   -0.853287   -0.266433\n",
       "股票3     0.853777    0.943870    1.196581    0.295811    0.925524\n",
       "股票4    -0.534174   -1.116548    0.636044   -1.449517   -0.926649\n",
       "股票5     0.959538    1.770563   -0.351707   -2.977076    2.013339\n",
       "股票6    -0.973113    0.079528   -0.209914    0.571253    1.624251\n",
       "股票7     0.214929    0.233671   -0.181782    0.230270    0.075772\n",
       "股票8    -0.500067    1.907273   -0.535956   -0.043639    0.268266\n",
       "股票9    -0.436170   -0.340593   -0.341158   -0.766875   -0.561429\n",
       "股票10   -1.613261    0.650868   -0.540786   -0.808894    0.313148"
      ]
     },
     "execution_count": 10,
     "metadata": {},
     "output_type": "execute_result"
    }
   ],
   "source": [
    "data"
   ]
  },
  {
   "cell_type": "markdown",
   "id": "03d27efa",
   "metadata": {},
   "source": [
    "## 属性："
   ]
  },
  {
   "cell_type": "code",
   "execution_count": 11,
   "id": "cba510fc",
   "metadata": {},
   "outputs": [
    {
     "data": {
      "text/plain": [
       "(10, 5)"
      ]
     },
     "execution_count": 11,
     "metadata": {},
     "output_type": "execute_result"
    }
   ],
   "source": [
    "data.shape # 属性shape"
   ]
  },
  {
   "cell_type": "code",
   "execution_count": 12,
   "id": "291a9f84",
   "metadata": {},
   "outputs": [
    {
     "data": {
      "text/plain": [
       "Index(['股票1', '股票2', '股票3', '股票4', '股票5', '股票6', '股票7', '股票8', '股票9', '股票10'], dtype='object')"
      ]
     },
     "execution_count": 12,
     "metadata": {},
     "output_type": "execute_result"
    }
   ],
   "source": [
    "data.index # 属性index (行索引)"
   ]
  },
  {
   "cell_type": "code",
   "execution_count": 13,
   "id": "0f8c9e24",
   "metadata": {},
   "outputs": [
    {
     "data": {
      "text/plain": [
       "DatetimeIndex(['2025-01-01', '2025-01-02', '2025-01-03', '2025-01-06',\n",
       "               '2025-01-07'],\n",
       "              dtype='datetime64[ns]', freq='B')"
      ]
     },
     "execution_count": 13,
     "metadata": {},
     "output_type": "execute_result"
    }
   ],
   "source": [
    "data.columns # 属性columns (列索引)"
   ]
  },
  {
   "cell_type": "code",
   "execution_count": 14,
   "id": "2489ee47",
   "metadata": {},
   "outputs": [
    {
     "data": {
      "text/plain": [
       "array([[ 0.47514819,  0.46806469,  1.3761138 , -0.18020441, -1.82316717],\n",
       "       [-0.22415871,  0.72813948,  0.67841993, -0.85328684, -0.26643303],\n",
       "       [ 0.85377707,  0.94387033,  1.19658083,  0.29581118,  0.92552412],\n",
       "       [-0.53417391, -1.1165484 ,  0.63604437, -1.44951744, -0.92664868],\n",
       "       [ 0.95953836,  1.77056298, -0.35170725, -2.97707628,  2.01333886],\n",
       "       [-0.97311283,  0.07952776, -0.20991385,  0.57125349,  1.62425097],\n",
       "       [ 0.21492865,  0.23367128, -0.18178194,  0.23027016,  0.07577162],\n",
       "       [-0.5000672 ,  1.90727308, -0.53595561, -0.04363929,  0.26826586],\n",
       "       [-0.43617001, -0.34059309, -0.3411575 , -0.76687503, -0.56142896],\n",
       "       [-1.61326126,  0.65086761, -0.5407862 , -0.80889356,  0.31314814]])"
      ]
     },
     "execution_count": 14,
     "metadata": {},
     "output_type": "execute_result"
    }
   ],
   "source": [
    "data.values # 属性values (值)"
   ]
  },
  {
   "cell_type": "code",
   "execution_count": 15,
   "id": "7eb6e7fd",
   "metadata": {},
   "outputs": [
    {
     "data": {
      "text/html": [
       "<div>\n",
       "<style scoped>\n",
       "    .dataframe tbody tr th:only-of-type {\n",
       "        vertical-align: middle;\n",
       "    }\n",
       "\n",
       "    .dataframe tbody tr th {\n",
       "        vertical-align: top;\n",
       "    }\n",
       "\n",
       "    .dataframe thead th {\n",
       "        text-align: right;\n",
       "    }\n",
       "</style>\n",
       "<table border=\"1\" class=\"dataframe\">\n",
       "  <thead>\n",
       "    <tr style=\"text-align: right;\">\n",
       "      <th></th>\n",
       "      <th>股票1</th>\n",
       "      <th>股票2</th>\n",
       "      <th>股票3</th>\n",
       "      <th>股票4</th>\n",
       "      <th>股票5</th>\n",
       "      <th>股票6</th>\n",
       "      <th>股票7</th>\n",
       "      <th>股票8</th>\n",
       "      <th>股票9</th>\n",
       "      <th>股票10</th>\n",
       "    </tr>\n",
       "  </thead>\n",
       "  <tbody>\n",
       "    <tr>\n",
       "      <th>2025-01-01</th>\n",
       "      <td>0.475148</td>\n",
       "      <td>-0.224159</td>\n",
       "      <td>0.853777</td>\n",
       "      <td>-0.534174</td>\n",
       "      <td>0.959538</td>\n",
       "      <td>-0.973113</td>\n",
       "      <td>0.214929</td>\n",
       "      <td>-0.500067</td>\n",
       "      <td>-0.436170</td>\n",
       "      <td>-1.613261</td>\n",
       "    </tr>\n",
       "    <tr>\n",
       "      <th>2025-01-02</th>\n",
       "      <td>0.468065</td>\n",
       "      <td>0.728139</td>\n",
       "      <td>0.943870</td>\n",
       "      <td>-1.116548</td>\n",
       "      <td>1.770563</td>\n",
       "      <td>0.079528</td>\n",
       "      <td>0.233671</td>\n",
       "      <td>1.907273</td>\n",
       "      <td>-0.340593</td>\n",
       "      <td>0.650868</td>\n",
       "    </tr>\n",
       "    <tr>\n",
       "      <th>2025-01-03</th>\n",
       "      <td>1.376114</td>\n",
       "      <td>0.678420</td>\n",
       "      <td>1.196581</td>\n",
       "      <td>0.636044</td>\n",
       "      <td>-0.351707</td>\n",
       "      <td>-0.209914</td>\n",
       "      <td>-0.181782</td>\n",
       "      <td>-0.535956</td>\n",
       "      <td>-0.341158</td>\n",
       "      <td>-0.540786</td>\n",
       "    </tr>\n",
       "    <tr>\n",
       "      <th>2025-01-06</th>\n",
       "      <td>-0.180204</td>\n",
       "      <td>-0.853287</td>\n",
       "      <td>0.295811</td>\n",
       "      <td>-1.449517</td>\n",
       "      <td>-2.977076</td>\n",
       "      <td>0.571253</td>\n",
       "      <td>0.230270</td>\n",
       "      <td>-0.043639</td>\n",
       "      <td>-0.766875</td>\n",
       "      <td>-0.808894</td>\n",
       "    </tr>\n",
       "    <tr>\n",
       "      <th>2025-01-07</th>\n",
       "      <td>-1.823167</td>\n",
       "      <td>-0.266433</td>\n",
       "      <td>0.925524</td>\n",
       "      <td>-0.926649</td>\n",
       "      <td>2.013339</td>\n",
       "      <td>1.624251</td>\n",
       "      <td>0.075772</td>\n",
       "      <td>0.268266</td>\n",
       "      <td>-0.561429</td>\n",
       "      <td>0.313148</td>\n",
       "    </tr>\n",
       "  </tbody>\n",
       "</table>\n",
       "</div>"
      ],
      "text/plain": [
       "                 股票1       股票2       股票3       股票4       股票5       股票6  \\\n",
       "2025-01-01  0.475148 -0.224159  0.853777 -0.534174  0.959538 -0.973113   \n",
       "2025-01-02  0.468065  0.728139  0.943870 -1.116548  1.770563  0.079528   \n",
       "2025-01-03  1.376114  0.678420  1.196581  0.636044 -0.351707 -0.209914   \n",
       "2025-01-06 -0.180204 -0.853287  0.295811 -1.449517 -2.977076  0.571253   \n",
       "2025-01-07 -1.823167 -0.266433  0.925524 -0.926649  2.013339  1.624251   \n",
       "\n",
       "                 股票7       股票8       股票9      股票10  \n",
       "2025-01-01  0.214929 -0.500067 -0.436170 -1.613261  \n",
       "2025-01-02  0.233671  1.907273 -0.340593  0.650868  \n",
       "2025-01-03 -0.181782 -0.535956 -0.341158 -0.540786  \n",
       "2025-01-06  0.230270 -0.043639 -0.766875 -0.808894  \n",
       "2025-01-07  0.075772  0.268266 -0.561429  0.313148  "
      ]
     },
     "execution_count": 15,
     "metadata": {},
     "output_type": "execute_result"
    }
   ],
   "source": [
    "data.T # 转置"
   ]
  },
  {
   "cell_type": "markdown",
   "id": "6a1ba412",
   "metadata": {},
   "source": [
    "## 方法："
   ]
  },
  {
   "cell_type": "code",
   "execution_count": 16,
   "id": "caccbd4b",
   "metadata": {},
   "outputs": [
    {
     "data": {
      "text/html": [
       "<div>\n",
       "<style scoped>\n",
       "    .dataframe tbody tr th:only-of-type {\n",
       "        vertical-align: middle;\n",
       "    }\n",
       "\n",
       "    .dataframe tbody tr th {\n",
       "        vertical-align: top;\n",
       "    }\n",
       "\n",
       "    .dataframe thead th {\n",
       "        text-align: right;\n",
       "    }\n",
       "</style>\n",
       "<table border=\"1\" class=\"dataframe\">\n",
       "  <thead>\n",
       "    <tr style=\"text-align: right;\">\n",
       "      <th></th>\n",
       "      <th>2025-01-01</th>\n",
       "      <th>2025-01-02</th>\n",
       "      <th>2025-01-03</th>\n",
       "      <th>2025-01-06</th>\n",
       "      <th>2025-01-07</th>\n",
       "    </tr>\n",
       "  </thead>\n",
       "  <tbody>\n",
       "    <tr>\n",
       "      <th>股票1</th>\n",
       "      <td>0.475148</td>\n",
       "      <td>0.468065</td>\n",
       "      <td>1.376114</td>\n",
       "      <td>-0.180204</td>\n",
       "      <td>-1.823167</td>\n",
       "    </tr>\n",
       "    <tr>\n",
       "      <th>股票2</th>\n",
       "      <td>-0.224159</td>\n",
       "      <td>0.728139</td>\n",
       "      <td>0.678420</td>\n",
       "      <td>-0.853287</td>\n",
       "      <td>-0.266433</td>\n",
       "    </tr>\n",
       "    <tr>\n",
       "      <th>股票3</th>\n",
       "      <td>0.853777</td>\n",
       "      <td>0.943870</td>\n",
       "      <td>1.196581</td>\n",
       "      <td>0.295811</td>\n",
       "      <td>0.925524</td>\n",
       "    </tr>\n",
       "    <tr>\n",
       "      <th>股票4</th>\n",
       "      <td>-0.534174</td>\n",
       "      <td>-1.116548</td>\n",
       "      <td>0.636044</td>\n",
       "      <td>-1.449517</td>\n",
       "      <td>-0.926649</td>\n",
       "    </tr>\n",
       "    <tr>\n",
       "      <th>股票5</th>\n",
       "      <td>0.959538</td>\n",
       "      <td>1.770563</td>\n",
       "      <td>-0.351707</td>\n",
       "      <td>-2.977076</td>\n",
       "      <td>2.013339</td>\n",
       "    </tr>\n",
       "  </tbody>\n",
       "</table>\n",
       "</div>"
      ],
      "text/plain": [
       "     2025-01-01  2025-01-02  2025-01-03  2025-01-06  2025-01-07\n",
       "股票1    0.475148    0.468065    1.376114   -0.180204   -1.823167\n",
       "股票2   -0.224159    0.728139    0.678420   -0.853287   -0.266433\n",
       "股票3    0.853777    0.943870    1.196581    0.295811    0.925524\n",
       "股票4   -0.534174   -1.116548    0.636044   -1.449517   -0.926649\n",
       "股票5    0.959538    1.770563   -0.351707   -2.977076    2.013339"
      ]
     },
     "execution_count": 16,
     "metadata": {},
     "output_type": "execute_result"
    }
   ],
   "source": [
    "data.head() # 默认返回前5行，括号里加数字可以指定返回的行数"
   ]
  },
  {
   "cell_type": "markdown",
   "id": "c0e04ea8",
   "metadata": {},
   "source": [
    "*一般看数据的结构会用data.head()*"
   ]
  },
  {
   "cell_type": "code",
   "execution_count": 17,
   "id": "3e3e9a47",
   "metadata": {},
   "outputs": [
    {
     "data": {
      "text/html": [
       "<div>\n",
       "<style scoped>\n",
       "    .dataframe tbody tr th:only-of-type {\n",
       "        vertical-align: middle;\n",
       "    }\n",
       "\n",
       "    .dataframe tbody tr th {\n",
       "        vertical-align: top;\n",
       "    }\n",
       "\n",
       "    .dataframe thead th {\n",
       "        text-align: right;\n",
       "    }\n",
       "</style>\n",
       "<table border=\"1\" class=\"dataframe\">\n",
       "  <thead>\n",
       "    <tr style=\"text-align: right;\">\n",
       "      <th></th>\n",
       "      <th>2025-01-01</th>\n",
       "      <th>2025-01-02</th>\n",
       "      <th>2025-01-03</th>\n",
       "      <th>2025-01-06</th>\n",
       "      <th>2025-01-07</th>\n",
       "    </tr>\n",
       "  </thead>\n",
       "  <tbody>\n",
       "    <tr>\n",
       "      <th>股票6</th>\n",
       "      <td>-0.973113</td>\n",
       "      <td>0.079528</td>\n",
       "      <td>-0.209914</td>\n",
       "      <td>0.571253</td>\n",
       "      <td>1.624251</td>\n",
       "    </tr>\n",
       "    <tr>\n",
       "      <th>股票7</th>\n",
       "      <td>0.214929</td>\n",
       "      <td>0.233671</td>\n",
       "      <td>-0.181782</td>\n",
       "      <td>0.230270</td>\n",
       "      <td>0.075772</td>\n",
       "    </tr>\n",
       "    <tr>\n",
       "      <th>股票8</th>\n",
       "      <td>-0.500067</td>\n",
       "      <td>1.907273</td>\n",
       "      <td>-0.535956</td>\n",
       "      <td>-0.043639</td>\n",
       "      <td>0.268266</td>\n",
       "    </tr>\n",
       "    <tr>\n",
       "      <th>股票9</th>\n",
       "      <td>-0.436170</td>\n",
       "      <td>-0.340593</td>\n",
       "      <td>-0.341158</td>\n",
       "      <td>-0.766875</td>\n",
       "      <td>-0.561429</td>\n",
       "    </tr>\n",
       "    <tr>\n",
       "      <th>股票10</th>\n",
       "      <td>-1.613261</td>\n",
       "      <td>0.650868</td>\n",
       "      <td>-0.540786</td>\n",
       "      <td>-0.808894</td>\n",
       "      <td>0.313148</td>\n",
       "    </tr>\n",
       "  </tbody>\n",
       "</table>\n",
       "</div>"
      ],
      "text/plain": [
       "      2025-01-01  2025-01-02  2025-01-03  2025-01-06  2025-01-07\n",
       "股票6    -0.973113    0.079528   -0.209914    0.571253    1.624251\n",
       "股票7     0.214929    0.233671   -0.181782    0.230270    0.075772\n",
       "股票8    -0.500067    1.907273   -0.535956   -0.043639    0.268266\n",
       "股票9    -0.436170   -0.340593   -0.341158   -0.766875   -0.561429\n",
       "股票10   -1.613261    0.650868   -0.540786   -0.808894    0.313148"
      ]
     },
     "execution_count": 17,
     "metadata": {},
     "output_type": "execute_result"
    }
   ],
   "source": [
    "data.tail() # 默认返回后5行，括号里加数字可以指定返回的行数"
   ]
  },
  {
   "cell_type": "markdown",
   "id": "16d552de",
   "metadata": {},
   "source": [
    "## 索引的设置："
   ]
  },
  {
   "cell_type": "markdown",
   "id": "0e2eac74",
   "metadata": {},
   "source": [
    "### 1、修改行列索引值"
   ]
  },
  {
   "cell_type": "code",
   "execution_count": 18,
   "id": "c2598866",
   "metadata": {},
   "outputs": [
    {
     "data": {
      "text/html": [
       "<div>\n",
       "<style scoped>\n",
       "    .dataframe tbody tr th:only-of-type {\n",
       "        vertical-align: middle;\n",
       "    }\n",
       "\n",
       "    .dataframe tbody tr th {\n",
       "        vertical-align: top;\n",
       "    }\n",
       "\n",
       "    .dataframe thead th {\n",
       "        text-align: right;\n",
       "    }\n",
       "</style>\n",
       "<table border=\"1\" class=\"dataframe\">\n",
       "  <thead>\n",
       "    <tr style=\"text-align: right;\">\n",
       "      <th></th>\n",
       "      <th>2025-01-01</th>\n",
       "      <th>2025-01-02</th>\n",
       "      <th>2025-01-03</th>\n",
       "      <th>2025-01-06</th>\n",
       "      <th>2025-01-07</th>\n",
       "    </tr>\n",
       "  </thead>\n",
       "  <tbody>\n",
       "    <tr>\n",
       "      <th>股票1</th>\n",
       "      <td>0.475148</td>\n",
       "      <td>0.468065</td>\n",
       "      <td>1.376114</td>\n",
       "      <td>-0.180204</td>\n",
       "      <td>-1.823167</td>\n",
       "    </tr>\n",
       "    <tr>\n",
       "      <th>股票2</th>\n",
       "      <td>-0.224159</td>\n",
       "      <td>0.728139</td>\n",
       "      <td>0.678420</td>\n",
       "      <td>-0.853287</td>\n",
       "      <td>-0.266433</td>\n",
       "    </tr>\n",
       "    <tr>\n",
       "      <th>股票3</th>\n",
       "      <td>0.853777</td>\n",
       "      <td>0.943870</td>\n",
       "      <td>1.196581</td>\n",
       "      <td>0.295811</td>\n",
       "      <td>0.925524</td>\n",
       "    </tr>\n",
       "    <tr>\n",
       "      <th>股票4</th>\n",
       "      <td>-0.534174</td>\n",
       "      <td>-1.116548</td>\n",
       "      <td>0.636044</td>\n",
       "      <td>-1.449517</td>\n",
       "      <td>-0.926649</td>\n",
       "    </tr>\n",
       "    <tr>\n",
       "      <th>股票5</th>\n",
       "      <td>0.959538</td>\n",
       "      <td>1.770563</td>\n",
       "      <td>-0.351707</td>\n",
       "      <td>-2.977076</td>\n",
       "      <td>2.013339</td>\n",
       "    </tr>\n",
       "  </tbody>\n",
       "</table>\n",
       "</div>"
      ],
      "text/plain": [
       "     2025-01-01  2025-01-02  2025-01-03  2025-01-06  2025-01-07\n",
       "股票1    0.475148    0.468065    1.376114   -0.180204   -1.823167\n",
       "股票2   -0.224159    0.728139    0.678420   -0.853287   -0.266433\n",
       "股票3    0.853777    0.943870    1.196581    0.295811    0.925524\n",
       "股票4   -0.534174   -1.116548    0.636044   -1.449517   -0.926649\n",
       "股票5    0.959538    1.770563   -0.351707   -2.977076    2.013339"
      ]
     },
     "execution_count": 18,
     "metadata": {},
     "output_type": "execute_result"
    }
   ],
   "source": [
    "data.head()"
   ]
  },
  {
   "cell_type": "code",
   "execution_count": 19,
   "id": "40af314a",
   "metadata": {},
   "outputs": [
    {
     "data": {
      "text/plain": [
       "'股票3'"
      ]
     },
     "execution_count": 19,
     "metadata": {},
     "output_type": "execute_result"
    }
   ],
   "source": [
    "data.index[2] # pandas不能单独修改某一个索引"
   ]
  },
  {
   "cell_type": "code",
   "execution_count": 20,
   "id": "cf11d107",
   "metadata": {},
   "outputs": [
    {
     "data": {
      "text/plain": [
       "['股票_11',\n",
       " '股票_12',\n",
       " '股票_13',\n",
       " '股票_14',\n",
       " '股票_15',\n",
       " '股票_16',\n",
       " '股票_17',\n",
       " '股票_18',\n",
       " '股票_19',\n",
       " '股票_20']"
      ]
     },
     "execution_count": 20,
     "metadata": {},
     "output_type": "execute_result"
    }
   ],
   "source": [
    "stock_ = [\"股票_{}\".format(i) for i in range(11,21)]\n",
    "stock_"
   ]
  },
  {
   "cell_type": "code",
   "execution_count": 21,
   "id": "5b7db61f",
   "metadata": {},
   "outputs": [
    {
     "data": {
      "text/html": [
       "<div>\n",
       "<style scoped>\n",
       "    .dataframe tbody tr th:only-of-type {\n",
       "        vertical-align: middle;\n",
       "    }\n",
       "\n",
       "    .dataframe tbody tr th {\n",
       "        vertical-align: top;\n",
       "    }\n",
       "\n",
       "    .dataframe thead th {\n",
       "        text-align: right;\n",
       "    }\n",
       "</style>\n",
       "<table border=\"1\" class=\"dataframe\">\n",
       "  <thead>\n",
       "    <tr style=\"text-align: right;\">\n",
       "      <th></th>\n",
       "      <th>2025-01-01</th>\n",
       "      <th>2025-01-02</th>\n",
       "      <th>2025-01-03</th>\n",
       "      <th>2025-01-06</th>\n",
       "      <th>2025-01-07</th>\n",
       "    </tr>\n",
       "  </thead>\n",
       "  <tbody>\n",
       "    <tr>\n",
       "      <th>股票_11</th>\n",
       "      <td>0.475148</td>\n",
       "      <td>0.468065</td>\n",
       "      <td>1.376114</td>\n",
       "      <td>-0.180204</td>\n",
       "      <td>-1.823167</td>\n",
       "    </tr>\n",
       "    <tr>\n",
       "      <th>股票_12</th>\n",
       "      <td>-0.224159</td>\n",
       "      <td>0.728139</td>\n",
       "      <td>0.678420</td>\n",
       "      <td>-0.853287</td>\n",
       "      <td>-0.266433</td>\n",
       "    </tr>\n",
       "    <tr>\n",
       "      <th>股票_13</th>\n",
       "      <td>0.853777</td>\n",
       "      <td>0.943870</td>\n",
       "      <td>1.196581</td>\n",
       "      <td>0.295811</td>\n",
       "      <td>0.925524</td>\n",
       "    </tr>\n",
       "    <tr>\n",
       "      <th>股票_14</th>\n",
       "      <td>-0.534174</td>\n",
       "      <td>-1.116548</td>\n",
       "      <td>0.636044</td>\n",
       "      <td>-1.449517</td>\n",
       "      <td>-0.926649</td>\n",
       "    </tr>\n",
       "    <tr>\n",
       "      <th>股票_15</th>\n",
       "      <td>0.959538</td>\n",
       "      <td>1.770563</td>\n",
       "      <td>-0.351707</td>\n",
       "      <td>-2.977076</td>\n",
       "      <td>2.013339</td>\n",
       "    </tr>\n",
       "  </tbody>\n",
       "</table>\n",
       "</div>"
      ],
      "text/plain": [
       "       2025-01-01  2025-01-02  2025-01-03  2025-01-06  2025-01-07\n",
       "股票_11    0.475148    0.468065    1.376114   -0.180204   -1.823167\n",
       "股票_12   -0.224159    0.728139    0.678420   -0.853287   -0.266433\n",
       "股票_13    0.853777    0.943870    1.196581    0.295811    0.925524\n",
       "股票_14   -0.534174   -1.116548    0.636044   -1.449517   -0.926649\n",
       "股票_15    0.959538    1.770563   -0.351707   -2.977076    2.013339"
      ]
     },
     "execution_count": 21,
     "metadata": {},
     "output_type": "execute_result"
    }
   ],
   "source": [
    "data.index = stock_ # 只能整体修改\n",
    "data.head()"
   ]
  },
  {
   "cell_type": "markdown",
   "id": "fce30d18",
   "metadata": {},
   "source": [
    "### 2、重设索引"
   ]
  },
  {
   "cell_type": "code",
   "execution_count": 22,
   "id": "69e60a90",
   "metadata": {},
   "outputs": [
    {
     "data": {
      "text/html": [
       "<div>\n",
       "<style scoped>\n",
       "    .dataframe tbody tr th:only-of-type {\n",
       "        vertical-align: middle;\n",
       "    }\n",
       "\n",
       "    .dataframe tbody tr th {\n",
       "        vertical-align: top;\n",
       "    }\n",
       "\n",
       "    .dataframe thead th {\n",
       "        text-align: right;\n",
       "    }\n",
       "</style>\n",
       "<table border=\"1\" class=\"dataframe\">\n",
       "  <thead>\n",
       "    <tr style=\"text-align: right;\">\n",
       "      <th></th>\n",
       "      <th>index</th>\n",
       "      <th>2025-01-01 00:00:00</th>\n",
       "      <th>2025-01-02 00:00:00</th>\n",
       "      <th>2025-01-03 00:00:00</th>\n",
       "      <th>2025-01-06 00:00:00</th>\n",
       "      <th>2025-01-07 00:00:00</th>\n",
       "    </tr>\n",
       "  </thead>\n",
       "  <tbody>\n",
       "    <tr>\n",
       "      <th>0</th>\n",
       "      <td>股票_11</td>\n",
       "      <td>0.475148</td>\n",
       "      <td>0.468065</td>\n",
       "      <td>1.376114</td>\n",
       "      <td>-0.180204</td>\n",
       "      <td>-1.823167</td>\n",
       "    </tr>\n",
       "    <tr>\n",
       "      <th>1</th>\n",
       "      <td>股票_12</td>\n",
       "      <td>-0.224159</td>\n",
       "      <td>0.728139</td>\n",
       "      <td>0.678420</td>\n",
       "      <td>-0.853287</td>\n",
       "      <td>-0.266433</td>\n",
       "    </tr>\n",
       "    <tr>\n",
       "      <th>2</th>\n",
       "      <td>股票_13</td>\n",
       "      <td>0.853777</td>\n",
       "      <td>0.943870</td>\n",
       "      <td>1.196581</td>\n",
       "      <td>0.295811</td>\n",
       "      <td>0.925524</td>\n",
       "    </tr>\n",
       "    <tr>\n",
       "      <th>3</th>\n",
       "      <td>股票_14</td>\n",
       "      <td>-0.534174</td>\n",
       "      <td>-1.116548</td>\n",
       "      <td>0.636044</td>\n",
       "      <td>-1.449517</td>\n",
       "      <td>-0.926649</td>\n",
       "    </tr>\n",
       "    <tr>\n",
       "      <th>4</th>\n",
       "      <td>股票_15</td>\n",
       "      <td>0.959538</td>\n",
       "      <td>1.770563</td>\n",
       "      <td>-0.351707</td>\n",
       "      <td>-2.977076</td>\n",
       "      <td>2.013339</td>\n",
       "    </tr>\n",
       "    <tr>\n",
       "      <th>5</th>\n",
       "      <td>股票_16</td>\n",
       "      <td>-0.973113</td>\n",
       "      <td>0.079528</td>\n",
       "      <td>-0.209914</td>\n",
       "      <td>0.571253</td>\n",
       "      <td>1.624251</td>\n",
       "    </tr>\n",
       "    <tr>\n",
       "      <th>6</th>\n",
       "      <td>股票_17</td>\n",
       "      <td>0.214929</td>\n",
       "      <td>0.233671</td>\n",
       "      <td>-0.181782</td>\n",
       "      <td>0.230270</td>\n",
       "      <td>0.075772</td>\n",
       "    </tr>\n",
       "    <tr>\n",
       "      <th>7</th>\n",
       "      <td>股票_18</td>\n",
       "      <td>-0.500067</td>\n",
       "      <td>1.907273</td>\n",
       "      <td>-0.535956</td>\n",
       "      <td>-0.043639</td>\n",
       "      <td>0.268266</td>\n",
       "    </tr>\n",
       "    <tr>\n",
       "      <th>8</th>\n",
       "      <td>股票_19</td>\n",
       "      <td>-0.436170</td>\n",
       "      <td>-0.340593</td>\n",
       "      <td>-0.341158</td>\n",
       "      <td>-0.766875</td>\n",
       "      <td>-0.561429</td>\n",
       "    </tr>\n",
       "    <tr>\n",
       "      <th>9</th>\n",
       "      <td>股票_20</td>\n",
       "      <td>-1.613261</td>\n",
       "      <td>0.650868</td>\n",
       "      <td>-0.540786</td>\n",
       "      <td>-0.808894</td>\n",
       "      <td>0.313148</td>\n",
       "    </tr>\n",
       "  </tbody>\n",
       "</table>\n",
       "</div>"
      ],
      "text/plain": [
       "   index  2025-01-01 00:00:00  2025-01-02 00:00:00  2025-01-03 00:00:00  \\\n",
       "0  股票_11             0.475148             0.468065             1.376114   \n",
       "1  股票_12            -0.224159             0.728139             0.678420   \n",
       "2  股票_13             0.853777             0.943870             1.196581   \n",
       "3  股票_14            -0.534174            -1.116548             0.636044   \n",
       "4  股票_15             0.959538             1.770563            -0.351707   \n",
       "5  股票_16            -0.973113             0.079528            -0.209914   \n",
       "6  股票_17             0.214929             0.233671            -0.181782   \n",
       "7  股票_18            -0.500067             1.907273            -0.535956   \n",
       "8  股票_19            -0.436170            -0.340593            -0.341158   \n",
       "9  股票_20            -1.613261             0.650868            -0.540786   \n",
       "\n",
       "   2025-01-06 00:00:00  2025-01-07 00:00:00  \n",
       "0            -0.180204            -1.823167  \n",
       "1            -0.853287            -0.266433  \n",
       "2             0.295811             0.925524  \n",
       "3            -1.449517            -0.926649  \n",
       "4            -2.977076             2.013339  \n",
       "5             0.571253             1.624251  \n",
       "6             0.230270             0.075772  \n",
       "7            -0.043639             0.268266  \n",
       "8            -0.766875            -0.561429  \n",
       "9            -0.808894             0.313148  "
      ]
     },
     "execution_count": 22,
     "metadata": {},
     "output_type": "execute_result"
    }
   ],
   "source": [
    "data.reset_index() # 重新进行行索引"
   ]
  },
  {
   "cell_type": "code",
   "execution_count": 23,
   "id": "86b7b336",
   "metadata": {},
   "outputs": [
    {
     "data": {
      "text/plain": [
       "(10, 6)"
      ]
     },
     "execution_count": 23,
     "metadata": {},
     "output_type": "execute_result"
    }
   ],
   "source": [
    "data.reset_index().shape"
   ]
  },
  {
   "cell_type": "code",
   "execution_count": 24,
   "id": "4b881860",
   "metadata": {},
   "outputs": [
    {
     "data": {
      "text/html": [
       "<div>\n",
       "<style scoped>\n",
       "    .dataframe tbody tr th:only-of-type {\n",
       "        vertical-align: middle;\n",
       "    }\n",
       "\n",
       "    .dataframe tbody tr th {\n",
       "        vertical-align: top;\n",
       "    }\n",
       "\n",
       "    .dataframe thead th {\n",
       "        text-align: right;\n",
       "    }\n",
       "</style>\n",
       "<table border=\"1\" class=\"dataframe\">\n",
       "  <thead>\n",
       "    <tr style=\"text-align: right;\">\n",
       "      <th></th>\n",
       "      <th>2025-01-01</th>\n",
       "      <th>2025-01-02</th>\n",
       "      <th>2025-01-03</th>\n",
       "      <th>2025-01-06</th>\n",
       "      <th>2025-01-07</th>\n",
       "    </tr>\n",
       "  </thead>\n",
       "  <tbody>\n",
       "    <tr>\n",
       "      <th>0</th>\n",
       "      <td>0.475148</td>\n",
       "      <td>0.468065</td>\n",
       "      <td>1.376114</td>\n",
       "      <td>-0.180204</td>\n",
       "      <td>-1.823167</td>\n",
       "    </tr>\n",
       "    <tr>\n",
       "      <th>1</th>\n",
       "      <td>-0.224159</td>\n",
       "      <td>0.728139</td>\n",
       "      <td>0.678420</td>\n",
       "      <td>-0.853287</td>\n",
       "      <td>-0.266433</td>\n",
       "    </tr>\n",
       "    <tr>\n",
       "      <th>2</th>\n",
       "      <td>0.853777</td>\n",
       "      <td>0.943870</td>\n",
       "      <td>1.196581</td>\n",
       "      <td>0.295811</td>\n",
       "      <td>0.925524</td>\n",
       "    </tr>\n",
       "    <tr>\n",
       "      <th>3</th>\n",
       "      <td>-0.534174</td>\n",
       "      <td>-1.116548</td>\n",
       "      <td>0.636044</td>\n",
       "      <td>-1.449517</td>\n",
       "      <td>-0.926649</td>\n",
       "    </tr>\n",
       "    <tr>\n",
       "      <th>4</th>\n",
       "      <td>0.959538</td>\n",
       "      <td>1.770563</td>\n",
       "      <td>-0.351707</td>\n",
       "      <td>-2.977076</td>\n",
       "      <td>2.013339</td>\n",
       "    </tr>\n",
       "    <tr>\n",
       "      <th>5</th>\n",
       "      <td>-0.973113</td>\n",
       "      <td>0.079528</td>\n",
       "      <td>-0.209914</td>\n",
       "      <td>0.571253</td>\n",
       "      <td>1.624251</td>\n",
       "    </tr>\n",
       "    <tr>\n",
       "      <th>6</th>\n",
       "      <td>0.214929</td>\n",
       "      <td>0.233671</td>\n",
       "      <td>-0.181782</td>\n",
       "      <td>0.230270</td>\n",
       "      <td>0.075772</td>\n",
       "    </tr>\n",
       "    <tr>\n",
       "      <th>7</th>\n",
       "      <td>-0.500067</td>\n",
       "      <td>1.907273</td>\n",
       "      <td>-0.535956</td>\n",
       "      <td>-0.043639</td>\n",
       "      <td>0.268266</td>\n",
       "    </tr>\n",
       "    <tr>\n",
       "      <th>8</th>\n",
       "      <td>-0.436170</td>\n",
       "      <td>-0.340593</td>\n",
       "      <td>-0.341158</td>\n",
       "      <td>-0.766875</td>\n",
       "      <td>-0.561429</td>\n",
       "    </tr>\n",
       "    <tr>\n",
       "      <th>9</th>\n",
       "      <td>-1.613261</td>\n",
       "      <td>0.650868</td>\n",
       "      <td>-0.540786</td>\n",
       "      <td>-0.808894</td>\n",
       "      <td>0.313148</td>\n",
       "    </tr>\n",
       "  </tbody>\n",
       "</table>\n",
       "</div>"
      ],
      "text/plain": [
       "   2025-01-01  2025-01-02  2025-01-03  2025-01-06  2025-01-07\n",
       "0    0.475148    0.468065    1.376114   -0.180204   -1.823167\n",
       "1   -0.224159    0.728139    0.678420   -0.853287   -0.266433\n",
       "2    0.853777    0.943870    1.196581    0.295811    0.925524\n",
       "3   -0.534174   -1.116548    0.636044   -1.449517   -0.926649\n",
       "4    0.959538    1.770563   -0.351707   -2.977076    2.013339\n",
       "5   -0.973113    0.079528   -0.209914    0.571253    1.624251\n",
       "6    0.214929    0.233671   -0.181782    0.230270    0.075772\n",
       "7   -0.500067    1.907273   -0.535956   -0.043639    0.268266\n",
       "8   -0.436170   -0.340593   -0.341158   -0.766875   -0.561429\n",
       "9   -1.613261    0.650868   -0.540786   -0.808894    0.313148"
      ]
     },
     "execution_count": 24,
     "metadata": {},
     "output_type": "execute_result"
    }
   ],
   "source": [
    "data.reset_index(drop=True) # 扔掉索引列，默认drop=False"
   ]
  },
  {
   "cell_type": "code",
   "execution_count": 25,
   "id": "046150d3",
   "metadata": {},
   "outputs": [
    {
     "data": {
      "text/plain": [
       "(10, 5)"
      ]
     },
     "execution_count": 25,
     "metadata": {},
     "output_type": "execute_result"
    }
   ],
   "source": [
    "data.reset_index(drop=True).shape"
   ]
  },
  {
   "cell_type": "markdown",
   "id": "d26e556a",
   "metadata": {},
   "source": [
    "### 3、设置新索引"
   ]
  },
  {
   "cell_type": "code",
   "execution_count": 26,
   "id": "6c0b9d16",
   "metadata": {},
   "outputs": [],
   "source": [
    "# 可以直接用字典设置DataFrame\n",
    "\n",
    "df = pd.DataFrame({'month': [1,4,7,10],\n",
    "                   'year': [2022,2023,2024,2025],\n",
    "                   'sale': [30,40,50,60]})"
   ]
  },
  {
   "cell_type": "code",
   "execution_count": 27,
   "id": "d05a5576",
   "metadata": {},
   "outputs": [
    {
     "data": {
      "text/html": [
       "<div>\n",
       "<style scoped>\n",
       "    .dataframe tbody tr th:only-of-type {\n",
       "        vertical-align: middle;\n",
       "    }\n",
       "\n",
       "    .dataframe tbody tr th {\n",
       "        vertical-align: top;\n",
       "    }\n",
       "\n",
       "    .dataframe thead th {\n",
       "        text-align: right;\n",
       "    }\n",
       "</style>\n",
       "<table border=\"1\" class=\"dataframe\">\n",
       "  <thead>\n",
       "    <tr style=\"text-align: right;\">\n",
       "      <th></th>\n",
       "      <th>month</th>\n",
       "      <th>year</th>\n",
       "      <th>sale</th>\n",
       "    </tr>\n",
       "  </thead>\n",
       "  <tbody>\n",
       "    <tr>\n",
       "      <th>0</th>\n",
       "      <td>1</td>\n",
       "      <td>2022</td>\n",
       "      <td>30</td>\n",
       "    </tr>\n",
       "    <tr>\n",
       "      <th>1</th>\n",
       "      <td>4</td>\n",
       "      <td>2023</td>\n",
       "      <td>40</td>\n",
       "    </tr>\n",
       "    <tr>\n",
       "      <th>2</th>\n",
       "      <td>7</td>\n",
       "      <td>2024</td>\n",
       "      <td>50</td>\n",
       "    </tr>\n",
       "    <tr>\n",
       "      <th>3</th>\n",
       "      <td>10</td>\n",
       "      <td>2025</td>\n",
       "      <td>60</td>\n",
       "    </tr>\n",
       "  </tbody>\n",
       "</table>\n",
       "</div>"
      ],
      "text/plain": [
       "   month  year  sale\n",
       "0      1  2022    30\n",
       "1      4  2023    40\n",
       "2      7  2024    50\n",
       "3     10  2025    60"
      ]
     },
     "execution_count": 27,
     "metadata": {},
     "output_type": "execute_result"
    }
   ],
   "source": [
    "df"
   ]
  },
  {
   "cell_type": "code",
   "execution_count": 28,
   "id": "0740dce3",
   "metadata": {},
   "outputs": [
    {
     "data": {
      "text/html": [
       "<div>\n",
       "<style scoped>\n",
       "    .dataframe tbody tr th:only-of-type {\n",
       "        vertical-align: middle;\n",
       "    }\n",
       "\n",
       "    .dataframe tbody tr th {\n",
       "        vertical-align: top;\n",
       "    }\n",
       "\n",
       "    .dataframe thead th {\n",
       "        text-align: right;\n",
       "    }\n",
       "</style>\n",
       "<table border=\"1\" class=\"dataframe\">\n",
       "  <thead>\n",
       "    <tr style=\"text-align: right;\">\n",
       "      <th></th>\n",
       "      <th>month</th>\n",
       "      <th>sale</th>\n",
       "    </tr>\n",
       "    <tr>\n",
       "      <th>year</th>\n",
       "      <th></th>\n",
       "      <th></th>\n",
       "    </tr>\n",
       "  </thead>\n",
       "  <tbody>\n",
       "    <tr>\n",
       "      <th>2022</th>\n",
       "      <td>1</td>\n",
       "      <td>30</td>\n",
       "    </tr>\n",
       "    <tr>\n",
       "      <th>2023</th>\n",
       "      <td>4</td>\n",
       "      <td>40</td>\n",
       "    </tr>\n",
       "    <tr>\n",
       "      <th>2024</th>\n",
       "      <td>7</td>\n",
       "      <td>50</td>\n",
       "    </tr>\n",
       "    <tr>\n",
       "      <th>2025</th>\n",
       "      <td>10</td>\n",
       "      <td>60</td>\n",
       "    </tr>\n",
       "  </tbody>\n",
       "</table>\n",
       "</div>"
      ],
      "text/plain": [
       "      month  sale\n",
       "year             \n",
       "2022      1    30\n",
       "2023      4    40\n",
       "2024      7    50\n",
       "2025     10    60"
      ]
     },
     "execution_count": 28,
     "metadata": {},
     "output_type": "execute_result"
    }
   ],
   "source": [
    "# 单索引\n",
    "\n",
    "df.set_index(\"year\", drop=True) # drop默认为True，删除作为索引的列"
   ]
  },
  {
   "cell_type": "code",
   "execution_count": 29,
   "id": "e56c990e",
   "metadata": {},
   "outputs": [
    {
     "data": {
      "text/html": [
       "<div>\n",
       "<style scoped>\n",
       "    .dataframe tbody tr th:only-of-type {\n",
       "        vertical-align: middle;\n",
       "    }\n",
       "\n",
       "    .dataframe tbody tr th {\n",
       "        vertical-align: top;\n",
       "    }\n",
       "\n",
       "    .dataframe thead th {\n",
       "        text-align: right;\n",
       "    }\n",
       "</style>\n",
       "<table border=\"1\" class=\"dataframe\">\n",
       "  <thead>\n",
       "    <tr style=\"text-align: right;\">\n",
       "      <th></th>\n",
       "      <th>month</th>\n",
       "      <th>year</th>\n",
       "      <th>sale</th>\n",
       "    </tr>\n",
       "    <tr>\n",
       "      <th>year</th>\n",
       "      <th></th>\n",
       "      <th></th>\n",
       "      <th></th>\n",
       "    </tr>\n",
       "  </thead>\n",
       "  <tbody>\n",
       "    <tr>\n",
       "      <th>2022</th>\n",
       "      <td>1</td>\n",
       "      <td>2022</td>\n",
       "      <td>30</td>\n",
       "    </tr>\n",
       "    <tr>\n",
       "      <th>2023</th>\n",
       "      <td>4</td>\n",
       "      <td>2023</td>\n",
       "      <td>40</td>\n",
       "    </tr>\n",
       "    <tr>\n",
       "      <th>2024</th>\n",
       "      <td>7</td>\n",
       "      <td>2024</td>\n",
       "      <td>50</td>\n",
       "    </tr>\n",
       "    <tr>\n",
       "      <th>2025</th>\n",
       "      <td>10</td>\n",
       "      <td>2025</td>\n",
       "      <td>60</td>\n",
       "    </tr>\n",
       "  </tbody>\n",
       "</table>\n",
       "</div>"
      ],
      "text/plain": [
       "      month  year  sale\n",
       "year                   \n",
       "2022      1  2022    30\n",
       "2023      4  2023    40\n",
       "2024      7  2024    50\n",
       "2025     10  2025    60"
      ]
     },
     "execution_count": 29,
     "metadata": {},
     "output_type": "execute_result"
    }
   ],
   "source": [
    "df.set_index(\"year\", drop=False) # drop=False，保留作为索引的列"
   ]
  },
  {
   "cell_type": "code",
   "execution_count": 30,
   "id": "525b7966",
   "metadata": {},
   "outputs": [
    {
     "data": {
      "text/html": [
       "<div>\n",
       "<style scoped>\n",
       "    .dataframe tbody tr th:only-of-type {\n",
       "        vertical-align: middle;\n",
       "    }\n",
       "\n",
       "    .dataframe tbody tr th {\n",
       "        vertical-align: top;\n",
       "    }\n",
       "\n",
       "    .dataframe thead th {\n",
       "        text-align: right;\n",
       "    }\n",
       "</style>\n",
       "<table border=\"1\" class=\"dataframe\">\n",
       "  <thead>\n",
       "    <tr style=\"text-align: right;\">\n",
       "      <th></th>\n",
       "      <th></th>\n",
       "      <th>sale</th>\n",
       "    </tr>\n",
       "    <tr>\n",
       "      <th>year</th>\n",
       "      <th>month</th>\n",
       "      <th></th>\n",
       "    </tr>\n",
       "  </thead>\n",
       "  <tbody>\n",
       "    <tr>\n",
       "      <th>2022</th>\n",
       "      <th>1</th>\n",
       "      <td>30</td>\n",
       "    </tr>\n",
       "    <tr>\n",
       "      <th>2023</th>\n",
       "      <th>4</th>\n",
       "      <td>40</td>\n",
       "    </tr>\n",
       "    <tr>\n",
       "      <th>2024</th>\n",
       "      <th>7</th>\n",
       "      <td>50</td>\n",
       "    </tr>\n",
       "    <tr>\n",
       "      <th>2025</th>\n",
       "      <th>10</th>\n",
       "      <td>60</td>\n",
       "    </tr>\n",
       "  </tbody>\n",
       "</table>\n",
       "</div>"
      ],
      "text/plain": [
       "            sale\n",
       "year month      \n",
       "2022 1        30\n",
       "2023 4        40\n",
       "2024 7        50\n",
       "2025 10       60"
      ]
     },
     "execution_count": 30,
     "metadata": {},
     "output_type": "execute_result"
    }
   ],
   "source": [
    "# 多索引，具有multiindex的DataFrame\n",
    "\n",
    "new_df = df.set_index([\"year\", \"month\"])\n",
    "new_df"
   ]
  },
  {
   "cell_type": "code",
   "execution_count": 31,
   "id": "77a0c730",
   "metadata": {},
   "outputs": [
    {
     "data": {
      "text/plain": [
       "MultiIndex([(2022,  1),\n",
       "            (2023,  4),\n",
       "            (2024,  7),\n",
       "            (2025, 10)],\n",
       "           names=['year', 'month'])"
      ]
     },
     "execution_count": 31,
     "metadata": {},
     "output_type": "execute_result"
    }
   ],
   "source": [
    "new_df.index"
   ]
  },
  {
   "cell_type": "markdown",
   "id": "725ec0e4",
   "metadata": {},
   "source": [
    "### 4、MultiIndex"
   ]
  },
  {
   "cell_type": "code",
   "execution_count": 32,
   "id": "c31d9f44",
   "metadata": {},
   "outputs": [
    {
     "data": {
      "text/plain": [
       "FrozenList(['year', 'month'])"
      ]
     },
     "execution_count": 32,
     "metadata": {},
     "output_type": "execute_result"
    }
   ],
   "source": [
    "new_df.index.names # 属性names"
   ]
  },
  {
   "cell_type": "code",
   "execution_count": 33,
   "id": "2c899086",
   "metadata": {},
   "outputs": [
    {
     "data": {
      "text/plain": [
       "FrozenList([[2022, 2023, 2024, 2025], [1, 4, 7, 10]])"
      ]
     },
     "execution_count": 33,
     "metadata": {},
     "output_type": "execute_result"
    }
   ],
   "source": [
    "new_df.index.levels"
   ]
  },
  {
   "cell_type": "markdown",
   "id": "aa8e81a0",
   "metadata": {},
   "source": [
    "# 二、Series"
   ]
  },
  {
   "cell_type": "markdown",
   "id": "7f542167",
   "metadata": {},
   "source": [
    "## 结构："
   ]
  },
  {
   "cell_type": "code",
   "execution_count": 34,
   "id": "44ee3872",
   "metadata": {},
   "outputs": [
    {
     "data": {
      "text/html": [
       "<div>\n",
       "<style scoped>\n",
       "    .dataframe tbody tr th:only-of-type {\n",
       "        vertical-align: middle;\n",
       "    }\n",
       "\n",
       "    .dataframe tbody tr th {\n",
       "        vertical-align: top;\n",
       "    }\n",
       "\n",
       "    .dataframe thead th {\n",
       "        text-align: right;\n",
       "    }\n",
       "</style>\n",
       "<table border=\"1\" class=\"dataframe\">\n",
       "  <thead>\n",
       "    <tr style=\"text-align: right;\">\n",
       "      <th></th>\n",
       "      <th>2025-01-01</th>\n",
       "      <th>2025-01-02</th>\n",
       "      <th>2025-01-03</th>\n",
       "      <th>2025-01-06</th>\n",
       "      <th>2025-01-07</th>\n",
       "    </tr>\n",
       "  </thead>\n",
       "  <tbody>\n",
       "    <tr>\n",
       "      <th>股票_11</th>\n",
       "      <td>0.475148</td>\n",
       "      <td>0.468065</td>\n",
       "      <td>1.376114</td>\n",
       "      <td>-0.180204</td>\n",
       "      <td>-1.823167</td>\n",
       "    </tr>\n",
       "    <tr>\n",
       "      <th>股票_12</th>\n",
       "      <td>-0.224159</td>\n",
       "      <td>0.728139</td>\n",
       "      <td>0.678420</td>\n",
       "      <td>-0.853287</td>\n",
       "      <td>-0.266433</td>\n",
       "    </tr>\n",
       "    <tr>\n",
       "      <th>股票_13</th>\n",
       "      <td>0.853777</td>\n",
       "      <td>0.943870</td>\n",
       "      <td>1.196581</td>\n",
       "      <td>0.295811</td>\n",
       "      <td>0.925524</td>\n",
       "    </tr>\n",
       "    <tr>\n",
       "      <th>股票_14</th>\n",
       "      <td>-0.534174</td>\n",
       "      <td>-1.116548</td>\n",
       "      <td>0.636044</td>\n",
       "      <td>-1.449517</td>\n",
       "      <td>-0.926649</td>\n",
       "    </tr>\n",
       "    <tr>\n",
       "      <th>股票_15</th>\n",
       "      <td>0.959538</td>\n",
       "      <td>1.770563</td>\n",
       "      <td>-0.351707</td>\n",
       "      <td>-2.977076</td>\n",
       "      <td>2.013339</td>\n",
       "    </tr>\n",
       "    <tr>\n",
       "      <th>股票_16</th>\n",
       "      <td>-0.973113</td>\n",
       "      <td>0.079528</td>\n",
       "      <td>-0.209914</td>\n",
       "      <td>0.571253</td>\n",
       "      <td>1.624251</td>\n",
       "    </tr>\n",
       "    <tr>\n",
       "      <th>股票_17</th>\n",
       "      <td>0.214929</td>\n",
       "      <td>0.233671</td>\n",
       "      <td>-0.181782</td>\n",
       "      <td>0.230270</td>\n",
       "      <td>0.075772</td>\n",
       "    </tr>\n",
       "    <tr>\n",
       "      <th>股票_18</th>\n",
       "      <td>-0.500067</td>\n",
       "      <td>1.907273</td>\n",
       "      <td>-0.535956</td>\n",
       "      <td>-0.043639</td>\n",
       "      <td>0.268266</td>\n",
       "    </tr>\n",
       "    <tr>\n",
       "      <th>股票_19</th>\n",
       "      <td>-0.436170</td>\n",
       "      <td>-0.340593</td>\n",
       "      <td>-0.341158</td>\n",
       "      <td>-0.766875</td>\n",
       "      <td>-0.561429</td>\n",
       "    </tr>\n",
       "    <tr>\n",
       "      <th>股票_20</th>\n",
       "      <td>-1.613261</td>\n",
       "      <td>0.650868</td>\n",
       "      <td>-0.540786</td>\n",
       "      <td>-0.808894</td>\n",
       "      <td>0.313148</td>\n",
       "    </tr>\n",
       "  </tbody>\n",
       "</table>\n",
       "</div>"
      ],
      "text/plain": [
       "       2025-01-01  2025-01-02  2025-01-03  2025-01-06  2025-01-07\n",
       "股票_11    0.475148    0.468065    1.376114   -0.180204   -1.823167\n",
       "股票_12   -0.224159    0.728139    0.678420   -0.853287   -0.266433\n",
       "股票_13    0.853777    0.943870    1.196581    0.295811    0.925524\n",
       "股票_14   -0.534174   -1.116548    0.636044   -1.449517   -0.926649\n",
       "股票_15    0.959538    1.770563   -0.351707   -2.977076    2.013339\n",
       "股票_16   -0.973113    0.079528   -0.209914    0.571253    1.624251\n",
       "股票_17    0.214929    0.233671   -0.181782    0.230270    0.075772\n",
       "股票_18   -0.500067    1.907273   -0.535956   -0.043639    0.268266\n",
       "股票_19   -0.436170   -0.340593   -0.341158   -0.766875   -0.561429\n",
       "股票_20   -1.613261    0.650868   -0.540786   -0.808894    0.313148"
      ]
     },
     "execution_count": 34,
     "metadata": {},
     "output_type": "execute_result"
    }
   ],
   "source": [
    "data"
   ]
  },
  {
   "cell_type": "code",
   "execution_count": 35,
   "id": "3e5844be",
   "metadata": {},
   "outputs": [
    {
     "data": {
      "text/plain": [
       "2025-01-01   -0.224159\n",
       "2025-01-02    0.728139\n",
       "2025-01-03    0.678420\n",
       "2025-01-06   -0.853287\n",
       "2025-01-07   -0.266433\n",
       "Freq: B, Name: 股票_12, dtype: float64"
      ]
     },
     "execution_count": 35,
     "metadata": {},
     "output_type": "execute_result"
    }
   ],
   "source": [
    "sr = data.iloc[1, :] # 提取带索引的一维数组，也就是Series\n",
    "sr"
   ]
  },
  {
   "cell_type": "markdown",
   "id": "3d5d72dd",
   "metadata": {},
   "source": [
    "## 属性："
   ]
  },
  {
   "cell_type": "code",
   "execution_count": 36,
   "id": "66cf775b",
   "metadata": {},
   "outputs": [
    {
     "data": {
      "text/plain": [
       "DatetimeIndex(['2025-01-01', '2025-01-02', '2025-01-03', '2025-01-06',\n",
       "               '2025-01-07'],\n",
       "              dtype='datetime64[ns]', freq='B')"
      ]
     },
     "execution_count": 36,
     "metadata": {},
     "output_type": "execute_result"
    }
   ],
   "source": [
    "sr.index # 属性index，提取（行）索引"
   ]
  },
  {
   "cell_type": "code",
   "execution_count": 37,
   "id": "71ac2156",
   "metadata": {},
   "outputs": [
    {
     "data": {
      "text/plain": [
       "pandas.core.indexes.datetimes.DatetimeIndex"
      ]
     },
     "execution_count": 37,
     "metadata": {},
     "output_type": "execute_result"
    }
   ],
   "source": [
    "type(sr.index)"
   ]
  },
  {
   "cell_type": "code",
   "execution_count": 38,
   "id": "bde0555b",
   "metadata": {},
   "outputs": [
    {
     "data": {
      "text/plain": [
       "array([-0.22415871,  0.72813948,  0.67841993, -0.85328684, -0.26643303])"
      ]
     },
     "execution_count": 38,
     "metadata": {},
     "output_type": "execute_result"
    }
   ],
   "source": [
    "sr.values # 属性values，输出一维数组"
   ]
  },
  {
   "cell_type": "code",
   "execution_count": 39,
   "id": "3646fd5c",
   "metadata": {},
   "outputs": [
    {
     "data": {
      "text/plain": [
       "numpy.ndarray"
      ]
     },
     "execution_count": 39,
     "metadata": {},
     "output_type": "execute_result"
    }
   ],
   "source": [
    "type(sr.values) # 输出是ndarray"
   ]
  },
  {
   "cell_type": "markdown",
   "id": "f25c5cd8",
   "metadata": {},
   "source": [
    "## 方法："
   ]
  },
  {
   "cell_type": "markdown",
   "id": "ffdd5307",
   "metadata": {},
   "source": [
    "### 创建Series"
   ]
  },
  {
   "cell_type": "code",
   "execution_count": 40,
   "id": "4d43b509",
   "metadata": {},
   "outputs": [
    {
     "data": {
      "text/plain": [
       "a    3\n",
       "b    5\n",
       "c    7\n",
       "dtype: int64"
      ]
     },
     "execution_count": 40,
     "metadata": {},
     "output_type": "execute_result"
    }
   ],
   "source": [
    "# 用一维数组创建\n",
    "\n",
    "# pd.Series(np.arange(10)) \n",
    "pd.Series(np.arange(3, 9, 2), index=['a', 'b', 'c'])"
   ]
  },
  {
   "cell_type": "code",
   "execution_count": 41,
   "id": "5bee9b34",
   "metadata": {},
   "outputs": [
    {
     "data": {
      "text/plain": [
       "a    0\n",
       "b    2\n",
       "c    3\n",
       "dtype: int64"
      ]
     },
     "execution_count": 41,
     "metadata": {},
     "output_type": "execute_result"
    }
   ],
   "source": [
    "# 用字典创建\n",
    "\n",
    "pd.Series({'a': 0, 'b': 2, 'c': 3})"
   ]
  },
  {
   "cell_type": "code",
   "execution_count": null,
   "id": "deec574e",
   "metadata": {},
   "outputs": [],
   "source": []
  }
 ],
 "metadata": {
  "kernelspec": {
   "display_name": "bioinformatics",
   "language": "python",
   "name": "bioinformatics"
  },
  "language_info": {
   "codemirror_mode": {
    "name": "ipython",
    "version": 3
   },
   "file_extension": ".py",
   "mimetype": "text/x-python",
   "name": "python",
   "nbconvert_exporter": "python",
   "pygments_lexer": "ipython3",
   "version": "3.11.10"
  }
 },
 "nbformat": 4,
 "nbformat_minor": 5
}
